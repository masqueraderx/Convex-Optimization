{
 "cells": [
  {
   "cell_type": "code",
   "execution_count": 106,
   "metadata": {},
   "outputs": [],
   "source": [
    "import numpy as np\n",
    "from sklearn import datasets\n",
    "import math\n",
    "import time"
   ]
  },
  {
   "cell_type": "code",
   "execution_count": 148,
   "metadata": {},
   "outputs": [],
   "source": [
    "# the logistic function\n",
    "def logistic_func(theta, x):\n",
    "    t = x.T @ theta\n",
    "    g = np.zeros(t.shape)\n",
    "    # split into positive and negative to improve stability\n",
    "    g[t>=0.0] = 1.0 / (1.0 + np.exp(-t[t>=0.0])) \n",
    "    g[t<0.0] = np.exp(t[t<0.0]) / (np.exp(t[t<0.0])+1.0)\n",
    "    return g\n",
    "\n",
    "# function to compute output of LR classifier\n",
    "def lr_predict(theta,x):\n",
    "    # form Xtilde for prediction\n",
    "    x = np.vstack((x.T , np.ones(x.shape[0])))\n",
    "    return logistic_func(theta,x)\n",
    "\n",
    "# function to evaluate objective function (-f)\n",
    "def f_eval(theta, x, y):\n",
    "    t = x.T @ theta\n",
    "    return -np.vdot(t,y) + np.sum(np.log(1+np.exp(t)))\n",
    "\n",
    "# function to compute the gradient of -f\n",
    "def grad(theta, x, y):\n",
    "    g = logistic_func(theta,x)\n",
    "    return -(x @ (y-g))\n",
    "\n",
    "def hessian(theta, x):\n",
    "    g = logistic_func(theta, x)\n",
    "    n = g.shape[0]\n",
    "    return np.dot(np.dot(np.dot(x, np.diag(g.reshape(n))), np.diag(1-g.reshape(n))), x.T)\n",
    "    \n",
    "    \n",
    "# gradient descent\n",
    "# returns theta and number of iterations\n",
    "def gradDesc(x, y, alpha, c, rho, delta, maxiter, backTracking=False):\n",
    "    # Initialization\n",
    "    theta = np.zeros(x.shape[0])\n",
    "    d = -grad(theta, x, y) # 3*1\n",
    "    k = 0\n",
    "    inner = 0\n",
    "    while (k < maxiter) and (np.linalg.norm(d) > delta):\n",
    "        '''\n",
    "        this is backtracking tragetegy, Or should I say: Strategy :)\n",
    "        '''\n",
    "        if backTracking:\n",
    "            alpha, m = back_tracking(x, y, theta, d, alpha, c, rho)\n",
    "        theta = theta + alpha * d\n",
    "        d = -grad(theta, x, y)\n",
    "        k = k + 1\n",
    "        if backTracking:\n",
    "            inner = inner + m\n",
    "    total = k + inner\n",
    "    return theta, k, total\n",
    "\n",
    "\n",
    "# heavy ball method\n",
    "# returns theta and number of iterations\n",
    "def heavyBall(x, y, alpha, beta, c, rho, delta, maxiter, backTracking=False):\n",
    "    # Initialization\n",
    "    theta = [np.zeros(x.shape[0]), np.zeros(x.shape[0])]\n",
    "    d = -grad(theta[-1], x, y) # 3*1\n",
    "    k = 1\n",
    "    inner = 0\n",
    "    while (k < maxiter) and (np.linalg.norm(d) > delta):\n",
    "        '''\n",
    "        this is backtracking tragetegy, Or should I say: Strategy :)\n",
    "        '''\n",
    "        if backTracking:\n",
    "            alpha, m = back_tracking(x, y, theta[-1], d, alpha, c, rho)      \n",
    "        theta.append(theta[k] + alpha * d + beta * (theta[k] - theta[k-1]))\n",
    "        d = -grad(theta[-1], x, y)\n",
    "        k = k + 1\n",
    "        if backTracking:\n",
    "            inner = inner + m\n",
    "    total = k + inner\n",
    "    return theta[-1], k-1, total-1\n",
    "\n",
    "\n",
    "\n",
    "# nesterov's method\n",
    "# returns theta and number of iterations\n",
    "def nesterov(x, y, alpha, c, rho, delta, maxiter, backTracking=False):\n",
    "    # Initialization\n",
    "    theta = [np.zeros(x.shape[0]), np.zeros(x.shape[0])]\n",
    "    d = -grad(theta[-1], x, y) # 3*1\n",
    "    k = 1\n",
    "    p = 0\n",
    "    inner = 0\n",
    "    while (k < maxiter) and (np.linalg.norm(d) > delta):\n",
    "        '''\n",
    "        this is backtracking tragetegy, Or should I say: Strategy :)\n",
    "        '''\n",
    "        if backTracking:\n",
    "            alpha, m = back_tracking(x, y, theta[-1], d, alpha, c, rho)\n",
    "        theta.append(theta[k] + alpha * d + p)\n",
    "        k = k + 1\n",
    "        beta = (k - 1) / (k + 2)\n",
    "        p = beta * (theta[-1] - theta[-2])\n",
    "        d = -grad(theta[-1] + p, x, y)\n",
    "        if backTracking:\n",
    "            inner = inner + m\n",
    "    total = k + inner\n",
    "    return theta[-1], k-1, total-1\n",
    "\n",
    "\n",
    "\n",
    "# newton's method\n",
    "# returns theta and number of iterations\n",
    "def newton(x, y, alpha, c, rho, delta, maxiter, backTracking=False):\n",
    "    # Initialization\n",
    "    theta = np.zeros(x.shape[0])\n",
    "    d = np.linalg.inv(hessian(theta, x)) @ (-grad(theta, x, y)) # 3*1\n",
    "    k = 0\n",
    "    inner = 0\n",
    "    while (k < maxiter) and (np.linalg.norm(d) > delta):\n",
    "        '''\n",
    "        this is backtracking tragetegy, Or should I say: Strategy :)\n",
    "        '''\n",
    "        if backTracking:\n",
    "            alpha, m = back_tracking(x, y, theta, d, alpha, c, rho)\n",
    "        theta = theta + alpha * d\n",
    "        d = np.linalg.inv(hessian(theta, x)) @ (-grad(theta, x, y))\n",
    "        k = k + 1\n",
    "        if backTracking:\n",
    "            inner = inner + m\n",
    "    total = inner + k\n",
    "    return theta, k, total\n",
    "\n",
    "def bfgs(x, y, alpha, c, rho, delta, maxiter, backTracking=False):\n",
    "    # Initialization    \n",
    "    theta = np.zeros(x.shape[0])\n",
    "\n",
    "    h=np.linalg.inv(hessian(theta,x))\n",
    "    g=grad(theta, x, y)\n",
    "    d = -h @ g  \n",
    "    k = 0\n",
    "    inner = 0\n",
    "    while (k < maxiter) and (np.linalg.norm(d) > delta):\n",
    "        theta0 = theta\n",
    "        g0 = g\n",
    "        if backTracking:\n",
    "            alpha, m = back_tracking(x, y, theta, d, alpha, c, rho)\n",
    "        theta = theta + alpha*d\n",
    "        g = grad(theta, x, y)\n",
    "        s = np.mat(theta-theta0).T\n",
    "        r = np.mat(g-g0).T\n",
    "        a = h @ r\n",
    "        gama=s.T @ r\n",
    "        h = h + np.array((gama+(r.T @ a))/gama**2)*np.array((s @ s.T)) - np.array((a @ s.T)/gama) - np.array((s @ a.T)/gama)\n",
    "        d = -h @ g\n",
    "        k = k + 1\n",
    "        if backTracking:\n",
    "            inner = inner + m\n",
    "        total = inner + k\n",
    "    return theta, k, total  \n",
    "\n",
    "\n",
    "# back_tracking\n",
    "# returns alpha\n",
    "def back_tracking(x, y, theta, d, alpha, c, rho):\n",
    "    \n",
    "    '''\n",
    "    Phi function, see notes\n",
    "    '''\n",
    "    def phi(alpha):\n",
    "        return f_eval(theta + alpha * d, x, y)\n",
    "    '''\n",
    "    h function, see notes\n",
    "    '''\n",
    "    def h(alpha):\n",
    "        return f_eval(theta, x, y) + c * alpha * (d.T @ d)\n",
    "    '''\n",
    "    backtracking\n",
    "    '''\n",
    "    m = 0\n",
    "    while phi(alpha) > h(alpha):\n",
    "        alpha = rho * alpha\n",
    "        m += 1\n",
    "    return alpha, m"
   ]
  },
  {
   "cell_type": "markdown",
   "metadata": {},
   "source": [
    "# Generate dataset"
   ]
  },
  {
   "cell_type": "code",
   "execution_count": 142,
   "metadata": {},
   "outputs": [],
   "source": [
    "## Generate dataset    \n",
    "np.random.seed(2020) # Set random seed so results are repeatable\n",
    "x,y = datasets.make_blobs(n_samples=100,n_features=2,centers=2,cluster_std=6.0)\n",
    "\n",
    "# Form Xtilde\n",
    "x = np.vstack((x.T , np.ones(x.shape[0])) ) #3*100"
   ]
  },
  {
   "cell_type": "markdown",
   "metadata": {},
   "source": [
    "# Gradient Descent"
   ]
  },
  {
   "cell_type": "code",
   "execution_count": 143,
   "metadata": {
    "scrolled": true
   },
   "outputs": [
    {
     "name": "stdout",
     "output_type": "stream",
     "text": [
      "Number of iterations required (Gradient Descent): 962\n",
      "Number of iterations required (Gradient Descent Combined backtracking): 965\n",
      "Solution: [-0.28086922947048915 -0.45756681602146676 2.2134228557652382]^T\n"
     ]
    },
    {
     "name": "stderr",
     "output_type": "stream",
     "text": [
      "/Users/gexueren/opt/anaconda3/lib/python3.7/site-packages/ipykernel_launcher.py:19: RuntimeWarning: overflow encountered in exp\n"
     ]
    }
   ],
   "source": [
    "'''\n",
    "x: np.array\n",
    "y: np.array\n",
    "alpha: float\n",
    "c: float 1e-4 - 0.3\n",
    "rho: float 0.1 - 0.8\n",
    "delta: float\n",
    "maxiter: int\n",
    "backTracking: bool, default: False\n",
    "'''\n",
    "# theta_gd, num_iters, total = gradDesc(x, y, 0.5, 0.1, 0.2, 1e-3, 10000, False)\n",
    "theta_gd, num_iters, total = gradDesc(x, y, 0.5, 0.1, 0.2, 1e-3, 10000, True)\n",
    "print('Number of iterations required (Gradient Descent): {0}'.format(num_iters))\n",
    "print('Number of iterations required (Gradient Descent Combined backtracking): {0}'.format(total))\n",
    "print('Solution: [{0} {1} {2}]^T'.format(theta_gd[0], theta_gd[1], theta_gd[2]))"
   ]
  },
  {
   "cell_type": "markdown",
   "metadata": {},
   "source": [
    "# Heavy Ball Method"
   ]
  },
  {
   "cell_type": "code",
   "execution_count": 146,
   "metadata": {},
   "outputs": [
    {
     "name": "stdout",
     "output_type": "stream",
     "text": [
      "Number of iterations required (Heavy Ball Method): 210\n",
      "Number of iterations required (Heavy Ball Method Combined backtracking): 213\n",
      "Solution: [-0.28090233848756674 -0.4576125163504644 2.2138087539926894]^T\n"
     ]
    },
    {
     "name": "stderr",
     "output_type": "stream",
     "text": [
      "/Users/gexueren/opt/anaconda3/lib/python3.7/site-packages/ipykernel_launcher.py:19: RuntimeWarning: overflow encountered in exp\n"
     ]
    }
   ],
   "source": [
    "'''\n",
    "x: np.array\n",
    "y: np.array\n",
    "alpha: float\n",
    "beta: float\n",
    "c: float\n",
    "rho: float\n",
    "delta: float\n",
    "maxiter: int\n",
    "backTracking: bool, default: False\n",
    "'''\n",
    "\n",
    "# theta_hbm, num_iters = heavyBall(x, y, 0.001, 0.95, 0.1, 0.2, 1e-3, 10000, False)\n",
    "# theta_hbm, num_iters = heavyBall(x, y, 0.001, 0.9, 0.1, 0.2, 1e-3, 10000, False)\n",
    "theta_hbm, num_iters, total = heavyBall(x, y, 0.25, 0.9, 0.1, 0.2, 1e-3, 10000, True)\n",
    "print('Number of iterations required (Heavy Ball Method): {0}'.format(num_iters))\n",
    "print('Number of iterations required (Heavy Ball Method Combined backtracking): {0}'.format(total))\n",
    "print('Solution: [{0} {1} {2}]^T'.format(theta_hbm[0], theta_hbm[1], theta_hbm[2]))"
   ]
  },
  {
   "cell_type": "markdown",
   "metadata": {},
   "source": [
    "# Nesterov's method"
   ]
  },
  {
   "cell_type": "code",
   "execution_count": 122,
   "metadata": {},
   "outputs": [
    {
     "name": "stdout",
     "output_type": "stream",
     "text": [
      "Number of iterations required (Nesterov's Method): 162\n",
      "Number of iterations required (Nesterov's Method Combined backtracking): 166\n",
      "Solution: [-0.28122598034923835 -0.4580532065467381 2.2175508597052973]^T\n"
     ]
    },
    {
     "name": "stderr",
     "output_type": "stream",
     "text": [
      "/Users/gexueren/opt/anaconda3/lib/python3.7/site-packages/ipykernel_launcher.py:19: RuntimeWarning: overflow encountered in exp\n"
     ]
    }
   ],
   "source": [
    "'''\n",
    "x: np.array\n",
    "y: np.array\n",
    "alpha: float\n",
    "c: float\n",
    "rho: float\n",
    "delta: float\n",
    "maxiter: int\n",
    "backTracking: bool, default: False\n",
    "'''\n",
    "\n",
    "\n",
    "# theta_nm, num_iters, total = nesterov(x, y, 0.001, 0.1, 0.2, 1e-3, 10000, False)\n",
    "theta_nm, num_iters, total = nesterov(x, y, 0.5, 0.1, 0.2, 1e-3, 10000, True)\n",
    "print('Number of iterations required (Nesterov\\'s Method): {0}'.format(num_iters))\n",
    "print('Number of iterations required (Nesterov\\'s Method Combined backtracking): {0}'.format(total))\n",
    "print('Solution: [{0} {1} {2}]^T'.format(theta_nm[0], theta_nm[1], theta_nm[2]))"
   ]
  },
  {
   "cell_type": "markdown",
   "metadata": {},
   "source": [
    "# Newton's method"
   ]
  },
  {
   "cell_type": "code",
   "execution_count": 123,
   "metadata": {},
   "outputs": [
    {
     "name": "stdout",
     "output_type": "stream",
     "text": [
      "Number of iterations required (Newton's method): 6\n",
      "Number of iterations required (Newton's Method  Combined backtracking): 6\n",
      "Solution: [-0.28087302535408804 -0.45755993255549 2.2135573728358855]^T\n"
     ]
    }
   ],
   "source": [
    "'''\n",
    "x: np.array\n",
    "y: np.array\n",
    "alpha: float\n",
    "c: float\n",
    "rho: float\n",
    "delta: float\n",
    "maxiter: int\n",
    "backTracking: bool, default: False\n",
    "'''\n",
    "# theta_Nm, num_iters, total = newton(x, y, 1.0, 0.1, 0.2, 1e-3, 10000, False)\n",
    "theta_Nm, num_iters, total = newton(x, y, 1.0, 0.1, 0.2, 1e-3, 10000, True)\n",
    "print('Number of iterations required (Newton\\'s method): {0}'.format(num_iters))\n",
    "print('Number of iterations required (Newton\\'s Method  Combined backtracking): {0}'.format(total))\n",
    "print('Solution: [{0} {1} {2}]^T'.format(theta_Nm[0], theta_Nm[1], theta_Nm[2]))"
   ]
  },
  {
   "cell_type": "markdown",
   "metadata": {},
   "source": [
    "# BFGS"
   ]
  },
  {
   "cell_type": "code",
   "execution_count": 149,
   "metadata": {
    "scrolled": true
   },
   "outputs": [
    {
     "name": "stdout",
     "output_type": "stream",
     "text": [
      "Number of iterations required (BFGS): 12\n",
      "Number of iterations required (BFGS Combined backtracking): 12\n",
      "Solution: [-0.28096747662317473 -0.4575502012675465 2.214046315782588]^T\n"
     ]
    }
   ],
   "source": [
    "'''\n",
    "x: np.array\n",
    "y: np.array\n",
    "alpha: float\n",
    "c: float\n",
    "rho: float\n",
    "delta: float\n",
    "maxiter: int\n",
    "backTracking: bool, default: False\n",
    "'''\n",
    "\n",
    "theta_bfgs, num_iters, total = bfgs(x, y, 1.0, 0.1, 0.2, 1e-3, 10000, True)\n",
    "print('Number of iterations required (BFGS): {0}'.format(num_iters))\n",
    "print('Number of iterations required (BFGS Combined backtracking): {0}'.format(total))\n",
    "print('Solution: [{0} {1} {2}]^T'.format(theta_bfgs[0], theta_bfgs[1], theta_bfgs[2]))"
   ]
  },
  {
   "cell_type": "code",
   "execution_count": null,
   "metadata": {},
   "outputs": [],
   "source": []
  }
 ],
 "metadata": {
  "kernelspec": {
   "display_name": "Python 3",
   "language": "python",
   "name": "python3"
  },
  "language_info": {
   "codemirror_mode": {
    "name": "ipython",
    "version": 3
   },
   "file_extension": ".py",
   "mimetype": "text/x-python",
   "name": "python",
   "nbconvert_exporter": "python",
   "pygments_lexer": "ipython3",
   "version": "3.7.6"
  }
 },
 "nbformat": 4,
 "nbformat_minor": 4
}
