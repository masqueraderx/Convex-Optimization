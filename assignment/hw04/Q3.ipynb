{
 "cells": [
  {
   "cell_type": "code",
   "execution_count": 1,
   "metadata": {},
   "outputs": [],
   "source": [
    "import numpy as np\n",
    "from matplotlib import pyplot as plt"
   ]
  },
  {
   "cell_type": "markdown",
   "metadata": {},
   "source": [
    "# Define function and Gradient"
   ]
  },
  {
   "cell_type": "code",
   "execution_count": 2,
   "metadata": {},
   "outputs": [],
   "source": [
    "def func(x):\n",
    "    if x < 1:\n",
    "        return 25*x**2\n",
    "    elif 1<= x <= 2:\n",
    "        return x**2 + 48*x - 24\n",
    "    else:\n",
    "        return 25*x**2 - 48*x + 72\n",
    "    \n",
    "def gradient(x):\n",
    "    if x < 1:\n",
    "        return 50*x\n",
    "    elif 1<= x <= 2:\n",
    "        return 2*x + 48\n",
    "    else:\n",
    "        return 50*x - 48"
   ]
  },
  {
   "cell_type": "markdown",
   "metadata": {},
   "source": [
    "# Gradient Descent"
   ]
  },
  {
   "cell_type": "code",
   "execution_count": 3,
   "metadata": {
    "scrolled": true
   },
   "outputs": [
    {
     "name": "stdout",
     "output_type": "stream",
     "text": [
      "1th iteration: gradient is 102, x is 0.96\n",
      "2th iteration: gradient is 48.0, x is 0.0\n"
     ]
    }
   ],
   "source": [
    "# gradient descent\n",
    "alpha = 1 / 50\n",
    "x=3\n",
    "k=0\n",
    "iterations_GD = [0]\n",
    "values_GD = [func(x)]\n",
    "while abs(gradient(x)) > 1e-3:\n",
    "    dk = gradient(x)\n",
    "    x = x - alpha * dk\n",
    "    k += 1\n",
    "    values_GD.append(func(x))\n",
    "    iterations_GD.append(k)\n",
    "    print('{}th iteration: gradient is {}, x is {}'.format(k, dk, x))"
   ]
  },
  {
   "cell_type": "markdown",
   "metadata": {},
   "source": [
    "# Heavy Ball Method"
   ]
  },
  {
   "cell_type": "code",
   "execution_count": 4,
   "metadata": {
    "scrolled": false
   },
   "outputs": [
    {
     "name": "stdout",
     "output_type": "stream",
     "text": [
      "1th iteration: gradient is 102, x is 1.2659999999999998\n",
      "2th iteration: gradient is 50.532, x is 0.3948179999999998\n",
      "3th iteration: gradient is 19.74089999999999, x is 0.05312442599999996\n",
      "4th iteration: gradient is 2.656221299999998, x is 0.005576808881999993\n",
      "5th iteration: gradient is 0.27884044409999964, x is 0.0005036880124739991\n",
      "6th iteration: gradient is 0.025184400623699955, x is 4.0041355784417916e-05\n",
      "7th iteration: gradient is 0.002002067789220896, x is 2.7606767708356174e-06\n"
     ]
    }
   ],
   "source": [
    "# heavy ball method\n",
    "alpha = 0.017 #0.017\n",
    "beta = 0.007 #0.007\n",
    "x = [3,3]\n",
    "k=1\n",
    "iterations_HBM = [0]\n",
    "values_HBM = [func(x[k])]\n",
    "while abs(gradient(x[k])) > 1e-3:\n",
    "    dk = gradient(x[k])\n",
    "    x.append(x[k] - alpha * dk + beta * (x[k] - x[k-1]))\n",
    "    k += 1\n",
    "    iterations_HBM.append(k-1)\n",
    "    values_HBM.append(func(x[k]))\n",
    "    print('{}th iteration: gradient is {}, x is {}'.format(k-1, dk, x[k]))"
   ]
  },
  {
   "cell_type": "markdown",
   "metadata": {},
   "source": [
    "# Nesterov’s method"
   ]
  },
  {
   "cell_type": "code",
   "execution_count": 5,
   "metadata": {},
   "outputs": [
    {
     "name": "stdout",
     "output_type": "stream",
     "text": [
      "1th iteration: gradient is 48.0, x is 0.96\n",
      "2th iteration: gradient is 0.0, x is 0.0\n"
     ]
    }
   ],
   "source": [
    "# Nesterov’s method\n",
    "alpha = 1 / 50\n",
    "x = [3,3]\n",
    "k=1\n",
    "iterations_NM = [0]\n",
    "values_NM = [func(x[k])]\n",
    "while abs(gradient(x[k])) > 1e-3:\n",
    "    beta = (k-1)/(k+2)\n",
    "    pk = beta*(x[k]-x[k-1])\n",
    "    dk = gradient(x[k] + pk)\n",
    "    x.append(x[k] + pk - alpha * dk)\n",
    "    k += 1\n",
    "    iterations_NM.append(k-1)\n",
    "    values_NM.append(func(x[k]))\n",
    "    print('{}th iteration: gradient is {}, x is {}'.format(k-1, gradient(x[k]), x[k]))"
   ]
  },
  {
   "cell_type": "markdown",
   "metadata": {},
   "source": [
    "# Draw plot for three methods"
   ]
  },
  {
   "cell_type": "code",
   "execution_count": 6,
   "metadata": {},
   "outputs": [
    {
     "data": {
      "image/png": "[encoded data removed]",
      "text/plain": [
       "<Figure size 720x360 with 1 Axes>"
      ]
     },
     "metadata": {
      "needs_background": "light"
     },
     "output_type": "display_data"
    }
   ],
   "source": [
    "# Seems Nesterov's method has the same result with gradient descent?\n",
    "# However, the gradient at each iteration is different\n",
    "fid = plt.figure(figsize=(10,5))\n",
    "\n",
    "Axes = plt.subplot(1,1,1)\n",
    "Axes.axes.tick_params(which='both',direction='in',top=True, right=True)\n",
    "plt.minorticks_on()\n",
    "Axes.set_facecolor((0,0,0,0.02))\n",
    "\n",
    "plt.plot(iterations_NM, values_NM, 'k-o', linewidth=3, color = 'r', label='Gradient Descent')\n",
    "plt.plot(iterations_HBM, values_HBM, 'b-o', linewidth=3, label = 'Heavy Ball Method')\n",
    "plt.plot(iterations_NM, values_NM, 'k-o', linewidth=3, color='g', label='Nesterov’s Method')\n",
    "plt.grid(True,which='major',linewidth=0.5)\n",
    "plt.grid(True,which='minor',linewidth=0.1)\n",
    "plt.xlabel(\"iteration\")\n",
    "plt.ylabel(\"function value\")\n",
    "plt.legend(loc='upper right',fontsize='x-small')\n",
    "plt.savefig('/Users/gexueren/Desktop/6270/assignment/hw04/hw04/3d.png')"
   ]
  },
  {
   "cell_type": "code",
   "execution_count": null,
   "metadata": {},
   "outputs": [],
   "source": []
  }
 ],
 "metadata": {
  "kernelspec": {
   "display_name": "Python 3",
   "language": "python",
   "name": "python3"
  },
  "language_info": {
   "codemirror_mode": {
    "name": "ipython",
    "version": 3
   },
   "file_extension": ".py",
   "mimetype": "text/x-python",
   "name": "python",
   "nbconvert_exporter": "python",
   "pygments_lexer": "ipython3",
   "version": "3.7.6"
  }
 },
 "nbformat": 4,
 "nbformat_minor": 4
}
