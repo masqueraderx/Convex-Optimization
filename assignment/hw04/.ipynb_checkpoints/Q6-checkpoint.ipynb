{
 "cells": [
  {
   "cell_type": "code",
   "execution_count": 10,
   "metadata": {},
   "outputs": [],
   "source": [
    "import numpy as np\n",
    "from matplotlib import pyplot as plt\n",
    "np.random.seed(2021)\n",
    "p = np.random.uniform(0,50,[2,10])"
   ]
  },
  {
   "cell_type": "code",
   "execution_count": 21,
   "metadata": {},
   "outputs": [],
   "source": [
    "def gradient(p, n, delta):\n",
    "    d = np.zeros(2)\n",
    "    for m in range(p.shape[1]):\n",
    "        if m == n:\n",
    "            continue\n",
    "        else:\n",
    "            d += np.multiply((np.linalg.norm(p[:,n]-p[:,m])) - delta**2, p[:,n]-p[:,m])\n",
    "    return d"
   ]
  },
  {
   "cell_type": "markdown",
   "metadata": {},
   "source": [
    "# Gradient Descent"
   ]
  },
  {
   "cell_type": "code",
   "execution_count": 22,
   "metadata": {},
   "outputs": [],
   "source": [
    "def gradient_descent(p, alpha, maxiter, threshold):\n",
    "    d = np.ones((2,10))\n",
    "    k = 0\n",
    "    while (k < maxiter) and (np.linalg.norm(d) > threshold):\n",
    "        \n",
    "        for i in range(p.shape[1]):\n",
    "            d[:, i] = - gradient(p, i, 6)\n",
    "        p = p + 4 * alpha * d\n",
    "        k += 1\n",
    "    print('final gradient is {}'.format(d[-1]))\n",
    "    return p, k"
   ]
  },
  {
   "cell_type": "code",
   "execution_count": 28,
   "metadata": {
    "scrolled": true
   },
   "outputs": [
    {
     "name": "stdout",
     "output_type": "stream",
     "text": [
      "final gradient is [ 1.10887602e-06  8.53300037e-07  8.08027167e-07 -2.37192473e-06\n",
      " -2.50935352e-06 -2.59277471e-06  3.05609639e-06  1.08431939e-06\n",
      " -2.61721766e-06  3.18065167e-06]\n",
      "points and total iteration is [[19.02507666 32.11616596 20.83146065  9.89555818 43.05206938  8.77915079\n",
      "   5.29198522 33.92255108 44.16847607 47.65564194]\n",
      " [ 4.68912053  4.10219063 44.97935234 37.75943936 11.32210424 12.85870672\n",
      "  25.49044383 44.3924224  36.2228369  23.59109871]] and 313\n"
     ]
    }
   ],
   "source": [
    "points, iterations = gradient_descent(p, 0.00125, 10000, 1e-5)\n",
    "print('points and total iteration is {} and {}'.format(points, iterations))"
   ]
  },
  {
   "cell_type": "code",
   "execution_count": 29,
   "metadata": {},
   "outputs": [
    {
     "data": {
      "image/png": "[encoded data removed]",
      "text/plain": [
       "<Figure size 720x360 with 1 Axes>"
      ]
     },
     "metadata": {
      "needs_background": "light"
     },
     "output_type": "display_data"
    }
   ],
   "source": [
    "fid = plt.figure(figsize=(10,5))\n",
    "\n",
    "Axes = plt.subplot(1,1,1)\n",
    "Axes.axes.tick_params(which='both',direction='in',top=True, right=True)\n",
    "plt.minorticks_on()\n",
    "Axes.set_facecolor((0,0,0,0.02))\n",
    "# draw the line\n",
    "\n",
    "plt.scatter(points[0], points[1], label = 'points')\n",
    "plt.grid(True,which='major',linewidth=0.5)\n",
    "plt.grid(True,which='minor',linewidth=0.1)\n",
    "plt.xlabel(\"$x$ coordinate\")\n",
    "plt.ylabel(\"$y$ coordinate\")\n",
    "# plt.legend(loc='upper right',fontsize='x-small')\n",
    "plt.title('6b')\n",
    "plt.savefig('/Users/gexueren/Desktop/6270/assignment/hw04/hw04/6b.png')"
   ]
  },
  {
   "cell_type": "markdown",
   "metadata": {},
   "source": [
    "# Nesterov's method"
   ]
  },
  {
   "cell_type": "code",
   "execution_count": 48,
   "metadata": {},
   "outputs": [],
   "source": [
    "def nesterov(p, alpha, maxiter, threshold):\n",
    "    d = np.ones((2,10))\n",
    "    k = 0\n",
    "    pre_p = p\n",
    "    pk = 0\n",
    "    while (k < maxiter) and (np.linalg.norm(d) > threshold):\n",
    "        beta = (k - 1) / (k + 2)\n",
    "        for i in range(p.shape[1]):\n",
    "            d[:, i] = - gradient(p + pk, i, 6)\n",
    "        p = p + 4 * alpha * d + pk \n",
    "        pk = beta * (p - pre_p)\n",
    "        k += 1\n",
    "        pre_p = p\n",
    "    print('final gradient is {}'.format(d[-1]))\n",
    "    return p, k"
   ]
  },
  {
   "cell_type": "code",
   "execution_count": 50,
   "metadata": {},
   "outputs": [
    {
     "name": "stdout",
     "output_type": "stream",
     "text": [
      "final gradient is [-4.87862728e-07 -9.10984625e-07  1.13298110e-06 -3.24746735e-06\n",
      "  2.60409780e-06 -5.92462200e-07  2.85873513e-06  7.71470724e-07\n",
      " -8.57721716e-08 -2.04273562e-06]\n",
      "points and total iteration is [[19.11058222 32.20407723 20.74354988  9.83882162 43.10880562  8.82959174\n",
      "   5.28809421 33.83704504 44.1180354  47.65953297]\n",
      " [ 4.65724685  4.12666347 44.95487964 37.68796795 11.39357525 12.78266093\n",
      "  25.39927334 44.42429625 36.29888227 23.68226972]] and 416\n"
     ]
    }
   ],
   "source": [
    "# 1e-5? or 2e-5?\n",
    "points, iterations = nesterov(p, 9e-4, 10000, 1e-5)\n",
    "print('points and total iteration is {} and {}'.format(points, iterations))"
   ]
  },
  {
   "cell_type": "code",
   "execution_count": 46,
   "metadata": {},
   "outputs": [
    {
     "data": {
      "image/png": "[encoded data removed]",
      "text/plain": [
       "<Figure size 720x360 with 1 Axes>"
      ]
     },
     "metadata": {
      "needs_background": "light"
     },
     "output_type": "display_data"
    }
   ],
   "source": [
    "fid = plt.figure(figsize=(10,5))\n",
    "\n",
    "Axes = plt.subplot(1,1,1)\n",
    "Axes.axes.tick_params(which='both',direction='in',top=True, right=True)\n",
    "plt.minorticks_on()\n",
    "Axes.set_facecolor((0,0,0,0.02))\n",
    "# draw the line\n",
    "\n",
    "plt.scatter(points[0], points[1], label = 'points')\n",
    "plt.grid(True,which='major',linewidth=0.5)\n",
    "plt.grid(True,which='minor',linewidth=0.1)\n",
    "plt.xlabel(\"$x$ coordinate\")\n",
    "plt.ylabel(\"$y$ coordinate\")\n",
    "# plt.legend(loc='upper right',fontsize='x-small')\n",
    "plt.title('6c')\n",
    "plt.savefig('/Users/gexueren/Desktop/6270/assignment/hw04/hw04/6c.png')"
   ]
  },
  {
   "cell_type": "code",
   "execution_count": null,
   "metadata": {},
   "outputs": [],
   "source": []
  }
 ],
 "metadata": {
  "kernelspec": {
   "display_name": "Python 3",
   "language": "python",
   "name": "python3"
  },
  "language_info": {
   "codemirror_mode": {
    "name": "ipython",
    "version": 3
   },
   "file_extension": ".py",
   "mimetype": "text/x-python",
   "name": "python",
   "nbconvert_exporter": "python",
   "pygments_lexer": "ipython3",
   "version": "3.7.6"
  }
 },
 "nbformat": 4,
 "nbformat_minor": 4
}
