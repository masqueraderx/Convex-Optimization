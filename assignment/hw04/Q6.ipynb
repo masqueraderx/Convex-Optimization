{
 "cells": [
  {
   "cell_type": "code",
   "execution_count": 8,
   "metadata": {},
   "outputs": [],
   "source": [
    "import numpy as np\n",
    "from matplotlib import pyplot as plt\n",
    "np.random.seed(2021)\n",
    "p = np.random.uniform(0,50,[2,10])"
   ]
  },
  {
   "cell_type": "code",
   "execution_count": 16,
   "metadata": {},
   "outputs": [],
   "source": [
    "def gradient(p, n, delta):\n",
    "    d = np.zeros(2)\n",
    "    for m in range(p.shape[1]):\n",
    "        if m == n:\n",
    "            continue\n",
    "        else:\n",
    "            d += np.multiply((np.linalg.norm(p[:,n]-p[:,m]))**2 - delta**2, p[:,n]-p[:,m])\n",
    "    return d"
   ]
  },
  {
   "cell_type": "markdown",
   "metadata": {},
   "source": [
    "# Gradient Descent"
   ]
  },
  {
   "cell_type": "code",
   "execution_count": 17,
   "metadata": {},
   "outputs": [],
   "source": [
    "def gradient_descent(p, alpha, maxiter, threshold):\n",
    "    d = np.ones((2,10))\n",
    "    k = 0\n",
    "    while (k < maxiter) and (np.linalg.norm(d) > threshold):\n",
    "        \n",
    "        for i in range(p.shape[1]):\n",
    "            d[:, i] = - gradient(p, i, 6)\n",
    "        p = p + 4 * alpha * d\n",
    "        k += 1\n",
    "    print('final gradient is {}'.format(d[-1]))\n",
    "    return p, k"
   ]
  },
  {
   "cell_type": "code",
   "execution_count": 26,
   "metadata": {
    "scrolled": true
   },
   "outputs": [
    {
     "name": "stdout",
     "output_type": "stream",
     "text": [
      "final gradient is [-3.26331368e-06  2.29566343e-06  4.74091664e-06  5.68726080e-08\n",
      "  4.17329920e-07 -9.15335679e-07  3.03843983e-07  1.70254953e-06\n",
      " -2.29466712e-06 -3.04385965e-06]\n",
      "points and total iteration is [[23.14320239 24.9755886  29.90858298 23.38221766 24.00717652 26.80758336\n",
      "  25.71671293 28.42181372 29.26994167 29.1053161 ]\n",
      " [25.49315224 27.6641226  24.99061542 22.97807049 26.97299306 21.092787\n",
      "  21.16041678 21.6762829  26.58568429 26.79359087]] and 6294\n"
     ]
    }
   ],
   "source": [
    "points, iterations = gradient_descent(p, 2e-5, 10000, 1e-5)\n",
    "print('points and total iteration is {} and {}'.format(points, iterations))"
   ]
  },
  {
   "cell_type": "code",
   "execution_count": 27,
   "metadata": {},
   "outputs": [
    {
     "data": {
      "image/png": "[encoded data removed]",
      "text/plain": [
       "<Figure size 720x360 with 1 Axes>"
      ]
     },
     "metadata": {
      "needs_background": "light"
     },
     "output_type": "display_data"
    }
   ],
   "source": [
    "fid = plt.figure(figsize=(10,5))\n",
    "\n",
    "Axes = plt.subplot(1,1,1)\n",
    "Axes.axes.tick_params(which='both',direction='in',top=True, right=True)\n",
    "plt.minorticks_on()\n",
    "Axes.set_facecolor((0,0,0,0.02))\n",
    "# draw the line\n",
    "\n",
    "plt.scatter(points[0], points[1], label = 'points')\n",
    "plt.grid(True,which='major',linewidth=0.5)\n",
    "plt.grid(True,which='minor',linewidth=0.1)\n",
    "plt.xlabel(\"$x$ coordinate\")\n",
    "plt.ylabel(\"$y$ coordinate\")\n",
    "# plt.legend(loc='upper right',fontsize='x-small')\n",
    "plt.title('6b')\n",
    "plt.savefig('/Users/gexueren/Desktop/6270/assignment/hw04/hw04/6b.png')"
   ]
  },
  {
   "cell_type": "markdown",
   "metadata": {},
   "source": [
    "# Nesterov's method"
   ]
  },
  {
   "cell_type": "code",
   "execution_count": 28,
   "metadata": {},
   "outputs": [],
   "source": [
    "def nesterov(p, alpha, maxiter, threshold):\n",
    "    d = np.ones((2,10))\n",
    "    k = 0\n",
    "    pre_p = p\n",
    "    pk = 0\n",
    "    while (k < maxiter) and (np.linalg.norm(d) > threshold):\n",
    "        beta = (k - 1) / (k + 2)\n",
    "        for i in range(p.shape[1]):\n",
    "            d[:, i] = - gradient(p + pk, i, 6)\n",
    "        p = p + 4 * alpha * d + pk \n",
    "        pk = beta * (p - pre_p)\n",
    "        k += 1\n",
    "        pre_p = p\n",
    "    print('final gradient is {}'.format(d[-1]))\n",
    "    return p, k"
   ]
  },
  {
   "cell_type": "code",
   "execution_count": 30,
   "metadata": {},
   "outputs": [
    {
     "name": "stdout",
     "output_type": "stream",
     "text": [
      "final gradient is [-4.24993658e-07 -9.93206989e-07  2.25357539e-07 -8.69126961e-07\n",
      "  7.49399355e-07  9.40595530e-07 -4.04110444e-07 -9.42647929e-07\n",
      " -7.56704054e-07  2.47543767e-06]\n",
      "points and total iteration is [[26.23659913 26.89041826 25.82211139 23.44453593 29.11647637 23.21349477\n",
      "  23.00993403 28.29602363 28.78743695 29.92110547]\n",
      " [21.08480148 21.10181235 27.9430185  26.22109203 22.30105432 23.37016435\n",
      "  24.57999401 27.48687928 27.11897773 24.1999216 ]] and 4179\n"
     ]
    }
   ],
   "source": [
    "# 1e-5? or 2e-5?\n",
    "points, iterations = nesterov(p, 1e-5, 10000, 1e-5)\n",
    "print('points and total iteration is {} and {}'.format(points, iterations))"
   ]
  },
  {
   "cell_type": "code",
   "execution_count": 31,
   "metadata": {},
   "outputs": [
    {
     "data": {
      "image/png": "[encoded data removed]",
      "text/plain": [
       "<Figure size 720x360 with 1 Axes>"
      ]
     },
     "metadata": {
      "needs_background": "light"
     },
     "output_type": "display_data"
    }
   ],
   "source": [
    "fid = plt.figure(figsize=(10,5))\n",
    "\n",
    "Axes = plt.subplot(1,1,1)\n",
    "Axes.axes.tick_params(which='both',direction='in',top=True, right=True)\n",
    "plt.minorticks_on()\n",
    "Axes.set_facecolor((0,0,0,0.02))\n",
    "# draw the line\n",
    "\n",
    "plt.scatter(points[0], points[1], label = 'points')\n",
    "plt.grid(True,which='major',linewidth=0.5)\n",
    "plt.grid(True,which='minor',linewidth=0.1)\n",
    "plt.xlabel(\"$x$ coordinate\")\n",
    "plt.ylabel(\"$y$ coordinate\")\n",
    "# plt.legend(loc='upper right',fontsize='x-small')\n",
    "plt.title('6c')\n",
    "plt.savefig('/Users/gexueren/Desktop/6270/assignment/hw04/hw04/6c.png')"
   ]
  },
  {
   "cell_type": "code",
   "execution_count": null,
   "metadata": {},
   "outputs": [],
   "source": []
  }
 ],
 "metadata": {
  "kernelspec": {
   "display_name": "Python 3",
   "language": "python",
   "name": "python3"
  },
  "language_info": {
   "codemirror_mode": {
    "name": "ipython",
    "version": 3
   },
   "file_extension": ".py",
   "mimetype": "text/x-python",
   "name": "python",
   "nbconvert_exporter": "python",
   "pygments_lexer": "ipython3",
   "version": "3.7.6"
  }
 },
 "nbformat": 4,
 "nbformat_minor": 4
}
